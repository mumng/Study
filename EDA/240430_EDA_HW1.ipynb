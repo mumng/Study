{
  "cells": [
    {
      "cell_type": "markdown",
      "id": "5e1ef153",
      "metadata": {
        "id": "5e1ef153"
      },
      "source": [
        "## 학습 목표\n",
        "\n",
        "- 머신러닝을 위해서, numpy와 pandas의 사용법을 다시 연습합니다.\n",
        "\n",
        "- numpy를 사용하여 여러가지 벡터 연산을 연습하고, 실제 데이터 유사도를 계산해봅시다."
      ]
    },
    {
      "cell_type": "code",
      "execution_count": 6,
      "id": "d557202e",
      "metadata": {
        "colab": {
          "base_uri": "https://localhost:8080/"
        },
        "id": "d557202e",
        "outputId": "407941c9-9a49-4ed7-f9c4-e68fb8e230cc"
      },
      "outputs": [
        {
          "output_type": "execute_result",
          "data": {
            "text/plain": [
              "array([[ 0.49671415, -0.1382643 ,  0.64768854,  1.52302986],\n",
              "       [-0.23415337, -0.23413696,  1.57921282,  0.76743473],\n",
              "       [-0.46947439,  0.54256004, -0.46341769, -0.46572975],\n",
              "       [ 0.24196227, -1.91328024, -1.72491783, -0.56228753],\n",
              "       [-1.01283112,  0.31424733, -0.90802408, -1.4123037 ],\n",
              "       [ 1.46564877, -0.2257763 ,  0.0675282 , -1.42474819],\n",
              "       [-0.54438272,  0.11092259, -1.15099358,  0.37569802],\n",
              "       [-0.60063869, -0.29169375, -0.60170661,  1.85227818],\n",
              "       [-0.01349722, -1.05771093,  0.82254491, -1.22084365],\n",
              "       [ 0.2088636 , -1.95967012, -1.32818605,  0.19686124]])"
            ]
          },
          "metadata": {},
          "execution_count": 6
        }
      ],
      "source": [
        "# data를 불러와 봅니다.\n",
        "import numpy as np\n",
        "import pandas as pd\n",
        "\n",
        "np.random.seed(42)\n",
        "data = np.random.randn(10, 4)\n",
        "data"
      ]
    },
    {
      "cell_type": "markdown",
      "id": "5500232c",
      "metadata": {
        "id": "5500232c"
      },
      "source": [
        "#### Q1. 위에서 정의한 data에서 첫번째 row가 가장 가까운 데이터를 찾으시오.\n",
        "\n",
        "> 가까운 데이터를 찾는 기준은 아래 2가지가 있습니다. 아래 2가지의 함수를 각각 구현하고 각 거리 기준별로 가까운 데이터를 찾습니다.\n",
        "\n",
        "1. Euclidean distance\n",
        "- https://en.wikipedia.org/wiki/Euclidean_distance\n",
        "\n",
        "2. Cosine Similarity\n",
        "- https://en.wikipedia.org/wiki/Cosine_similarity"
      ]
    },
    {
      "cell_type": "code",
      "source": [
        "from scipy.spatial.distance import euclidean, cosine\n",
        "# from sklearn.metrics.pairwise import paried_cosine_distances, paired_euclidean_distances"
      ],
      "metadata": {
        "id": "9K9eI2T7IOb7"
      },
      "id": "9K9eI2T7IOb7",
      "execution_count": 8,
      "outputs": []
    },
    {
      "cell_type": "code",
      "source": [
        "euclidean([data[0,0], data[0,1]], [data[0,2], data[0,3]])"
      ],
      "metadata": {
        "colab": {
          "base_uri": "https://localhost:8080/"
        },
        "id": "PbRTJlPKIbaX",
        "outputId": "8a17e48f-6919-40be-b1ab-ea0ed6d9d505"
      },
      "id": "PbRTJlPKIbaX",
      "execution_count": 11,
      "outputs": [
        {
          "output_type": "execute_result",
          "data": {
            "text/plain": [
              "1.6681401448799071"
            ]
          },
          "metadata": {},
          "execution_count": 11
        }
      ]
    },
    {
      "cell_type": "code",
      "execution_count": null,
      "id": "63a8e6ce",
      "metadata": {
        "id": "63a8e6ce"
      },
      "outputs": [],
      "source": [
        "def euclidean_distance():\n",
        "\n",
        "    return sqrt()"
      ]
    },
    {
      "cell_type": "code",
      "execution_count": null,
      "id": "152aff60",
      "metadata": {
        "id": "152aff60"
      },
      "outputs": [],
      "source": [
        "def cosine_similarity():\n",
        "\n",
        "    return"
      ]
    },
    {
      "cell_type": "code",
      "execution_count": 10,
      "id": "84d447bf",
      "metadata": {
        "colab": {
          "base_uri": "https://localhost:8080/"
        },
        "id": "84d447bf",
        "outputId": "c8e07350-338c-4e25-838a-d19206a871ed"
      },
      "outputs": [
        {
          "output_type": "execute_result",
          "data": {
            "text/plain": [
              "0.4967141530112327"
            ]
          },
          "metadata": {},
          "execution_count": 10
        }
      ],
      "source": [
        "## 첫번째 row와 가장 가까운 데이터 찾기\n",
        "target = data[0,0]\n",
        "target\n"
      ]
    },
    {
      "cell_type": "markdown",
      "id": "1608b01d",
      "metadata": {
        "id": "1608b01d"
      },
      "source": [
        "#### Q2. 다음 주어진 2개의 numpy array를 matrix로 생각하고, 2개의 matrix multiplication을 수행하는 코드를 작성하세요."
      ]
    },
    {
      "cell_type": "code",
      "execution_count": null,
      "id": "9a905843",
      "metadata": {
        "id": "9a905843"
      },
      "outputs": [],
      "source": [
        "np.random.seed(42)\n",
        "\n",
        "# 10 x 4\n",
        "mat1 = np.random.randn(10, 4)\n",
        "# 4 x 10\n",
        "mat2 = np.random.randn(4, 10)\n",
        "# = 10 x 10\n",
        "\n",
        "def mat_mul(mat1: np.array, mat2: np.array)-> np.array:\n",
        "    mat3 = None\n",
        "    return mat3\n",
        "\n",
        "mat3 = mat_mul(mat1, mat2)\n",
        "print(mat3)"
      ]
    }
  ],
  "metadata": {
    "kernelspec": {
      "display_name": "Python 3 (ipykernel)",
      "language": "python",
      "name": "python3"
    },
    "language_info": {
      "codemirror_mode": {
        "name": "ipython",
        "version": 3
      },
      "file_extension": ".py",
      "mimetype": "text/x-python",
      "name": "python",
      "nbconvert_exporter": "python",
      "pygments_lexer": "ipython3",
      "version": "3.11.5"
    },
    "colab": {
      "provenance": []
    }
  },
  "nbformat": 4,
  "nbformat_minor": 5
}